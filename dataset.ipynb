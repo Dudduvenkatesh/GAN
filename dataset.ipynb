{
 "cells": [
  {
   "cell_type": "code",
   "execution_count": 15,
   "id": "42431b4f",
   "metadata": {},
   "outputs": [],
   "source": [
    "# # https://youtu.be/nbRkLE2fiVI\n",
    "# https://youtu.be/1HqjPqNglPc\n",
    "\"\"\"\n",
    "\n",
    "\n",
    "Dataset from: http://press.liacs.nl/mirflickr/mirdownload.html\n",
    "\n",
    "Read high res. original images and save lower versions to be used for SRGAN.\n",
    "\n",
    "Here, we are resizing them to 128x128 that will be  used as HR images and \n",
    "32x32 that will be used as LR images\n",
    "\"\"\"\n",
    "\n",
    "\n",
    "import cv2\n",
    "import numpy as np\n",
    "import os\n",
    "import matplotlib.pyplot as plt\n",
    "\n",
    "train_dir = r\"C:\\Users\\srikanth\\Desktop\\GAN\" \n",
    "\n",
    "for img in os.listdir( train_dir + \"/original\"):\n",
    "    img_array = cv2.imread(train_dir + \"/original/\" + img)\n",
    "    \n",
    "    img_array = cv2.resize(img_array, (128,128))\n",
    "    lr_img_array = cv2.resize(img_array,(32,32))\n",
    "    cv2.imwrite(train_dir+ \"/hr_images/\" + img, img_array)\n",
    "    cv2.imwrite(train_dir+ \"/lr_images/\"+ img, lr_img_array)\n"
   ]
  },
  {
   "cell_type": "code",
   "execution_count": null,
   "id": "eea8187e",
   "metadata": {},
   "outputs": [],
   "source": []
  },
  {
   "cell_type": "code",
   "execution_count": null,
   "id": "b4f1dbb2",
   "metadata": {},
   "outputs": [],
   "source": []
  }
 ],
 "metadata": {
  "kernelspec": {
   "display_name": "Python 3 (ipykernel)",
   "language": "python",
   "name": "python3"
  },
  "language_info": {
   "codemirror_mode": {
    "name": "ipython",
    "version": 3
   },
   "file_extension": ".py",
   "mimetype": "text/x-python",
   "name": "python",
   "nbconvert_exporter": "python",
   "pygments_lexer": "ipython3",
   "version": "3.9.13"
  }
 },
 "nbformat": 4,
 "nbformat_minor": 5
}
